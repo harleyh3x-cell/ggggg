{
  "cells": [
    {
      "cell_type": "code",
      "source": [
        "import streamlit as st\n",
        "import pandas as pd\n",
        "import plotly.express as px\n",
        "import plotly.graph_objects as go\n",
        "from io import StringIO\n",
        "import time\n",
        "\n",
        "# --- Configuração da Página ---\n",
        "st.set_page_config(\n",
        "    page_title=\"Dashboard de Análise de Fluxo\",\n",
        "    page_icon=\"📊\",\n",
        "    layout=\"wide\",\n",
        "    initial_sidebar_state=\"expanded\"\n",
        ")\n",
        "\n",
        "# --- Funções de Cálculo (O motor do aplicativo) ---\n",
        "\n",
        "def processar_dados(texto_dados):\n",
        "    \"\"\"Lê o texto colado, limpa e prepara os dados para análise.\"\"\"\n",
        "    if not texto_dados:\n",
        "        return pd.DataFrame()\n",
        "    try:\n",
        "        # Usar StringIO para ler o texto como se fosse um arquivo\n",
        "        # O separador '\\s\\s+' tenta lidar com múltiplos espaços ou tabulações\n",
        "        dados = pd.read_csv(StringIO(texto_dados), sep='\\s\\s+', engine='python', header=0)\n",
        "\n",
        "        # Renomear colunas para garantir consistência\n",
        "        dados.columns = ['Data', 'Compradora', 'Valor', 'Quantidade', 'Vendedora', 'Agressor']\n",
        "\n",
        "        # Limpeza e conversão de tipos\n",
        "        dados['Data'] = pd.to_datetime(dados['Data'], format='%d/%m/%Y%H:%M:%S', errors='coerce')\n",
        "        dados['Valor'] = pd.to_numeric(dados['Valor'].str.replace('.', '').str.replace(',', '.'), errors='coerce')\n",
        "        dados['Quantidade'] = pd.to_numeric(dados['Quantidade'], errors='coerce')\n",
        "\n",
        "        # Remover linhas com dados inválidos que não puderam ser convertidos\n",
        "        dados.dropna(inplace=True)\n",
        "\n",
        "        return dados\n",
        "    except Exception as e:\n",
        "        st.error(f\"Erro ao processar os dados: {e}. Verifique o formato do texto colado.\")\n",
        "        return pd.DataFrame()\n",
        "\n",
        "def calcular_metricas(df):\n",
        "    \"\"\"Calcula todas as métricas necessárias para os gráficos.\"\"\"\n",
        "    # Lógica de Agressão e Passividade\n",
        "    df['Agg_Compradora'] = df.apply(lambda row: row['Quantidade'] if row['Agressor'] == 'Comprador' else 0, axis=1)\n",
        "    df['Agg_Vendedora'] = df.apply(lambda row: row['Quantidade'] if row['Agressor'] == 'Vendedor' else 0, axis=1)\n",
        "    df['Pass_Compradora'] = df.apply(lambda row: row['Quantidade'] if row['Agressor'] == 'Vendedor' else 0, axis=1)\n",
        "    df['Pass_Vendedora'] = df.apply(lambda row: row['Quantidade'] if row['Agressor'] == 'Comprador' else 0, axis=1)\n",
        "\n",
        "    return df\n",
        "\n",
        "# --- Estado da Sessão (Para guardar informações entre interações) ---\n",
        "if 'dados_processados' not in st.session_state:\n",
        "    st.session_state.dados_processados = pd.DataFrame()\n",
        "if 'dados_carregados' not in st.session_state:\n",
        "    st.session_state.dados_carregados = False\n",
        "if 'playback_index' not in st.session_state:\n",
        "    st.session_state.playback_index = 0\n",
        "if 'is_playing' not in st.session_state:\n",
        "    st.session_state.is_playing = False\n",
        "\n",
        "# --- Interface do Usuário (O que você vê na tela) ---\n",
        "\n",
        "st.title(\"📊 Dashboard de Análise de Fluxo de Ordens\")\n",
        "st.markdown(\"---\")\n",
        "\n",
        "# --- Abas de Navegação ---\n",
        "tab_dados, tab_evolucao, tab_raiox, tab_regiao, tab_micro = st.tabs([\n",
        "    \"1. Dados\",\n",
        "    \"2. Evolução no Tempo\",\n",
        "    \"3. Raio-X do Fluxo\",\n",
        "    \"4. Atuação por Região\",\n",
        "    \"5. Microestrutura\"\n",
        "])\n",
        "\n",
        "# --- Aba 1: Dados ---\n",
        "with tab_dados:\n",
        "    st.header(\"Carregar Dados do Times and Trades\")\n",
        "    texto_dados_input = st.text_area(\n",
        "        \"Cole aqui os dados do Times and Trades para carregar na base de dados\",\n",
        "        height=300,\n",
        "        key=\"dados_input\"\n",
        "    )\n",
        "\n",
        "    if st.button(\"Processar e Carregar\"):\n",
        "        with st.spinner(\"Processando...\"):\n",
        "            dados_brutos = processar_dados(texto_dados_input)\n",
        "            if not dados_brutos.empty:\n",
        "                st.session_state.dados_processados = calcular_metricas(dados_brutos)\n",
        "                st.session_state.dados_carregados = True\n",
        "                st.session_state.playback_index = len(st.session_state.dados_processados) -1\n",
        "                st.success(f\"{len(dados_brutos)} trades carregados com sucesso!\")\n",
        "            else:\n",
        "                st.session_state.dados_carregados = False\n",
        "                st.warning(\"Nenhum dado válido foi carregado.\")\n",
        "\n",
        "# --- Barra Lateral de Controle ---\n",
        "with st.sidebar:\n",
        "    st.header(\"Filtros Globais\")\n",
        "\n",
        "    if st.session_state.dados_carregados:\n",
        "        df = st.session_state.dados_processados\n",
        "\n",
        "        # Seleção de Players\n",
        "        all_players = sorted(pd.concat([df['Compradora'], df['Vendedora']]).unique())\n",
        "        player_volumes = df.groupby('Compradora')['Quantidade'].sum().add(df.groupby('Vendedora')['Quantidade'].sum(), fill_value=0).sort_values(ascending=False)\n",
        "        top_5_players = player_volumes.head(5).index.tolist()\n",
        "\n",
        "        st.subheader(\"Seleção de Players\")\n",
        "        selected_players = st.multiselect(\n",
        "            \"Selecione os players para análise:\",\n",
        "            options=all_players,\n",
        "            default=top_5_players\n",
        "        )\n",
        "\n",
        "        # Agrupamento de Tempo\n",
        "        st.subheader(\"Agrupamento de Tempo\")\n",
        "        time_frame = st.selectbox(\n",
        "            \"Compilar gráficos por:\",\n",
        "            options=['1 segundo', '5 segundos', '15 segundos', '30 segundos', '1 minuto', '5 minutos', '15 minutos'],\n",
        "            index=4 # Padrão '1 minuto'\n",
        "        )\n",
        "        time_map = {\n",
        "            '1 segundo': '1S', '5 segundos': '5S', '15 segundos': '15S',\n",
        "            '30 segundos': '30S', '1 minuto': '1T', '5 minutos': '5T', '15 minutos': '15T'\n",
        "        }\n",
        "        resample_rule = time_map[time_frame]\n",
        "\n",
        "        # Controle de Timelapse\n",
        "        st.subheader(\"Controle de Timelapse\")\n",
        "\n",
        "        # Agrupar dados pelo time frame escolhido para o slider\n",
        "        time_steps = df.set_index('Data').resample(resample_rule).size().index\n",
        "\n",
        "        if len(time_steps) > 1:\n",
        "            st.session_state.playback_index = st.slider(\n",
        "                \"Navegue pelo tempo:\",\n",
        "                min_value=0,\n",
        "                max_value=len(time_steps) - 1,\n",
        "                value=st.session_state.playback_index,\n",
        "                format=\"%d\"\n",
        "            )\n",
        "            current_time_step = time_steps[st.session_state.playback_index]\n",
        "            st.info(f\"Visualizando dados até: {current_time_step.strftime('%H:%M:%S')}\")\n",
        "        else:\n",
        "            current_time_step = df['Data'].max() if not df.empty else pd.Timestamp.now()\n",
        "\n",
        "\n",
        "        # Botões de Playback\n",
        "        col1, col2, col3 = st.columns(3)\n",
        "        with col1:\n",
        "            if st.button(\"⏪ Voltar\"):\n",
        "                st.session_state.playback_index = max(0, st.session_state.playback_index - 1)\n",
        "        with col2:\n",
        "            if st.button(\"Play/Pause ▶️⏸️\"):\n",
        "                st.session_state.is_playing = not st.session_state.is_playing\n",
        "        with col3:\n",
        "            if st.button(\"Avançar ⏩\"):\n",
        "                st.session_state.playback_index = min(len(time_steps) - 1, st.session_state.playback_index + 1)\n",
        "\n",
        "        speed = st.selectbox(\"Velocidade:\", [1, 2, 3, 4, 5], index=0)\n",
        "        repeat = st.checkbox(\"Repetir\")\n",
        "\n",
        "    else:\n",
        "        st.info(\"Carregue os dados na aba '1. Dados' para habilitar os filtros.\")\n",
        "\n",
        "\n",
        "# --- Lógica de atualização dos gráficos com base no playback ---\n",
        "if st.session_state.dados_carregados:\n",
        "    df_filtrado_tempo = df[df['Data'] <= current_time_step]\n",
        "\n",
        "    # --- Aba 2: Evolução no Tempo ---\n",
        "    with tab_evolucao:\n",
        "        st.header(\"Evolução dos Players no Tempo\")\n",
        "\n",
        "        tipo_saldo = st.radio(\n",
        "            \"Selecione o tipo de análise:\",\n",
        "            options=['Saldo Resultante', 'Agressão Líquida', 'Passivo Líquido', 'Apenas Compras', 'Apenas Vendas'],\n",
        "            horizontal=True\n",
        "        )\n",
        "\n",
        "        if not df_filtrado_tempo.empty and selected_players:\n",
        "            # Lógica para calcular o saldo de cada player\n",
        "            data_plot = []\n",
        "            for player in selected_players:\n",
        "                # Compras e Vendas do player\n",
        "                compras = df_filtrado_tempo[df_filtrado_tempo['Compradora'] == player]['Quantidade'].sum()\n",
        "                vendas = df_filtrado_tempo[df_filtrado_tempo['Vendedora'] == player]['Quantidade'].sum()\n",
        "\n",
        "                # Agressões\n",
        "                agg_compra = df_filtrado_tempo[(df_filtrado_tempo['Compradora'] == player) & (df_filtrado_tempo['Agressor'] == 'Comprador')]['Quantidade'].sum()\n",
        "                agg_venda = df_filtrado_tempo[(df_filtrado_tempo['Vendedora'] == player) & (df_filtrado_tempo['Agressor'] == 'Vendedor')]['Quantidade'].sum()\n",
        "\n",
        "                # Passivos\n",
        "                pass_compra = df_filtrado_tempo[(df_filtrado_tempo['Compradora'] == player) & (df_filtrado_tempo['Agressor'] == 'Vendedor')]['Quantidade'].sum()\n",
        "                pass_venda = df_filtrado_tempo[(df_filtrado_tempo['Vendedora'] == player) & (df_filtrado_tempo['Agressor'] == 'Comprador')]['Quantidade'].sum()\n",
        "\n",
        "                saldo = 0\n",
        "                if tipo_saldo == 'Saldo Resultante':\n",
        "                    saldo = compras - vendas\n",
        "                elif tipo_saldo == 'Agressão Líquida':\n",
        "                    saldo = agg_compra - agg_venda\n",
        "                elif tipo_saldo == 'Passivo Líquido':\n",
        "                    saldo = pass_compra - pass_venda\n",
        "                elif tipo_saldo == 'Apenas Compras':\n",
        "                    saldo = compras\n",
        "                elif tipo_saldo == 'Apenas Vendas':\n",
        "                    saldo = vendas\n",
        "\n",
        "                data_plot.append({'Player': player, 'Saldo': saldo})\n",
        "\n",
        "            df_plot = pd.DataFrame(data_plot)\n",
        "\n",
        "            col_graf, col_tab = st.columns([3, 1])\n",
        "            with col_graf:\n",
        "                fig = px.bar(df_plot, x='Player', y='Saldo', color='Player', title=f\"Evolução até {current_time_step.strftime('%H:%M:%S')}\")\n",
        "                st.plotly_chart(fig, use_container_width=True)\n",
        "            with col_tab:\n",
        "                st.dataframe(df_plot.set_index('Player'))\n",
        "        else:\n",
        "            st.info(\"Selecione players para visualizar a evolução.\")\n",
        "\n",
        "\n",
        "    # --- Aba 3: Raio-X do Fluxo ---\n",
        "    with tab_raiox:\n",
        "        st.header(\"Raio-X do Fluxo: Delta e Volume\")\n",
        "        if not df_filtrado_tempo.empty:\n",
        "            df_resampled = df_filtrado_tempo.set_index('Data').resample(resample_rule).agg({\n",
        "                'Agg_Compradora': 'sum',\n",
        "                'Agg_Vendedora': 'sum',\n",
        "                'Quantidade': 'sum'\n",
        "            }).reset_index()\n",
        "\n",
        "            df_resampled['Delta'] = df_resampled['Agg_Compradora'] - df_resampled['Agg_Vendedora']\n",
        "\n",
        "            fig = go.Figure()\n",
        "            # Gráfico de Delta\n",
        "            fig.add_trace(go.Bar(\n",
        "                x=df_resampled['Data'],\n",
        "                y=df_resampled['Delta'],\n",
        "                name='Saldo Delta',\n",
        "                marker_color=['green' if d > 0 else 'red' for d in df_resampled['Delta']],\n",
        "                yaxis='y1'\n",
        "            ))\n",
        "            # Gráfico de Volume\n",
        "            fig.add_trace(go.Bar(\n",
        "                x=df_resampled['Data'],\n",
        "                y=df_resampled['Quantidade'],\n",
        "                name='Volume Total',\n",
        "                marker_color='lightblue',\n",
        "                yaxis='y2'\n",
        "            ))\n",
        "\n",
        "            fig.update_layout(\n",
        "                title='Saldo Delta vs. Volume Total de Agressão',\n",
        "                xaxis_title='Tempo',\n",
        "                yaxis_title='Saldo Delta',\n",
        "                yaxis2=dict(\n",
        "                    title='Volume Total',\n",
        "                    overlaying='y',\n",
        "                    side='right'\n",
        "                ),\n",
        "                barmode='relative',\n",
        "                legend=dict(x=0, y=1.1, orientation='h')\n",
        "            )\n",
        "            st.plotly_chart(fig, use_container_width=True)\n",
        "\n",
        "    # --- Aba 4: Atuação por Região ---\n",
        "    with tab_regiao:\n",
        "        st.header(\"Análise de Atuação por Região\")\n",
        "        player_selecionado = st.selectbox(\n",
        "            \"Selecione um player para análise detalhada:\",\n",
        "            options=all_players if 'all_players' in locals() else []\n",
        "        )\n",
        "        if player_selecionado and not df_filtrado_tempo.empty:\n",
        "            df_player = df_filtrado_tempo[\n",
        "                (df_filtrado_tempo['Compradora'] == player_selecionado) |\n",
        "                (df_filtrado_tempo['Vendedora'] == player_selecionado)\n",
        "            ]\n",
        "\n",
        "            vap_data = df_player.groupby('Valor').agg(\n",
        "                Agg_Volume=('Agg_Compradora', lambda x: x[df_player['Compradora'] == player_selecionado].sum() + x[df_player['Vendedora'] == player_selecionado].sum()),\n",
        "                Pass_Volume=('Pass_Compradora', lambda x: x[df_player['Compradora'] == player_selecionado].sum() + x[df_player['Vendedora'] == player_selecionado].sum())\n",
        "            ).reset_index()\n",
        "\n",
        "            fig = go.Figure()\n",
        "            fig.add_trace(go.Bar(\n",
        "                y=vap_data['Valor'],\n",
        "                x=vap_data['Agg_Volume'],\n",
        "                name='Volume de Agressão',\n",
        "                orientation='h',\n",
        "                marker_color='blue'\n",
        "            ))\n",
        "            fig.add_trace(go.Bar(\n",
        "                y=vap_data['Valor'],\n",
        "                x=vap_data['Pass_Volume'],\n",
        "                name='Volume de Absorção',\n",
        "                orientation='h',\n",
        "                marker_color='orange'\n",
        "            ))\n",
        "            fig.update_layout(\n",
        "                title=f'VAP de Agressão vs. Absorção para {player_selecionado}',\n",
        "                barmode='stack',\n",
        "                yaxis_title='Preço (Valor)',\n",
        "                xaxis_title='Volume',\n",
        "                yaxis=dict(autorange=\"reversed\") # Preços mais altos em cima\n",
        "            )\n",
        "            st.plotly_chart(fig, use_container_width=True)\n",
        "\n",
        "    # --- Aba 5: Microestrutura ---\n",
        "    with tab_micro:\n",
        "        st.header(\"Microestrutura: Esforço vs. Resultado\")\n",
        "        if not df_filtrado_tempo.empty:\n",
        "            df_filtrado_tempo['Delta'] = df_filtrado_tempo['Agg_Compradora'] - df_filtrado_tempo['Agg_Vendedora']\n",
        "            esforco_resultado = df_filtrado_tempo.groupby('Valor')['Delta'].sum().reset_index()\n",
        "\n",
        "            fig = px.bar(\n",
        "                esforco_resultado,\n",
        "                y='Valor',\n",
        "                x='Delta',\n",
        "                orientation='h',\n",
        "                title='Esforço (Delta) vs. Resultado (Preço)',\n",
        "                labels={'Delta': 'Saldo Delta Acumulado', 'Valor': 'Nível de Preço'}\n",
        "            )\n",
        "            fig.update_layout(yaxis=dict(autorange=\"reversed\"))\n",
        "            st.plotly_chart(fig, use_container_width=True)\n",
        "\n",
        "\n",
        "# --- Lógica de Playback Automático ---\n",
        "if st.session_state.is_playing:\n",
        "    max_index = len(time_steps) - 1 if 'time_steps' in locals() and len(time_steps) > 0 else 0\n",
        "    if st.session_state.playback_index >= max_index:\n",
        "        if repeat:\n",
        "            st.session_state.playback_index = 0\n",
        "        else:\n",
        "            st.session_state.is_playing = False\n",
        "    else:\n",
        "        st.session_state.playback_index += 1\n",
        "\n",
        "    time.sleep(1 / speed)\n",
        "    st.experimental_rerun()"
      ],
      "outputs": [
        {
          "output_type": "stream",
          "name": "stderr",
          "text": [
            "2025-08-03 05:03:51.266 Thread 'MainThread': missing ScriptRunContext! This warning can be ignored when running in bare mode.\n",
            "2025-08-03 05:03:51.268 Thread 'MainThread': missing ScriptRunContext! This warning can be ignored when running in bare mode.\n",
            "2025-08-03 05:03:51.269 Thread 'MainThread': missing ScriptRunContext! This warning can be ignored when running in bare mode.\n",
            "2025-08-03 05:03:51.270 Thread 'MainThread': missing ScriptRunContext! This warning can be ignored when running in bare mode.\n",
            "2025-08-03 05:03:51.271 Thread 'MainThread': missing ScriptRunContext! This warning can be ignored when running in bare mode.\n",
            "2025-08-03 05:03:51.275 Thread 'MainThread': missing ScriptRunContext! This warning can be ignored when running in bare mode.\n",
            "2025-08-03 05:03:51.277 Thread 'MainThread': missing ScriptRunContext! This warning can be ignored when running in bare mode.\n",
            "2025-08-03 05:03:51.278 Thread 'MainThread': missing ScriptRunContext! This warning can be ignored when running in bare mode.\n",
            "2025-08-03 05:03:51.279 Thread 'MainThread': missing ScriptRunContext! This warning can be ignored when running in bare mode.\n",
            "2025-08-03 05:03:51.279 Thread 'MainThread': missing ScriptRunContext! This warning can be ignored when running in bare mode.\n",
            "2025-08-03 05:03:51.284 Thread 'MainThread': missing ScriptRunContext! This warning can be ignored when running in bare mode.\n",
            "2025-08-03 05:03:51.285 Thread 'MainThread': missing ScriptRunContext! This warning can be ignored when running in bare mode.\n",
            "2025-08-03 05:03:51.286 Thread 'MainThread': missing ScriptRunContext! This warning can be ignored when running in bare mode.\n",
            "2025-08-03 05:03:51.287 Thread 'MainThread': missing ScriptRunContext! This warning can be ignored when running in bare mode.\n",
            "2025-08-03 05:03:51.288 Thread 'MainThread': missing ScriptRunContext! This warning can be ignored when running in bare mode.\n",
            "2025-08-03 05:03:51.292 Thread 'MainThread': missing ScriptRunContext! This warning can be ignored when running in bare mode.\n",
            "2025-08-03 05:03:51.296 Thread 'MainThread': missing ScriptRunContext! This warning can be ignored when running in bare mode.\n",
            "2025-08-03 05:03:51.297 Thread 'MainThread': missing ScriptRunContext! This warning can be ignored when running in bare mode.\n",
            "2025-08-03 05:03:51.298 Thread 'MainThread': missing ScriptRunContext! This warning can be ignored when running in bare mode.\n",
            "2025-08-03 05:03:51.299 Thread 'MainThread': missing ScriptRunContext! This warning can be ignored when running in bare mode.\n",
            "2025-08-03 05:03:51.300 Thread 'MainThread': missing ScriptRunContext! This warning can be ignored when running in bare mode.\n",
            "2025-08-03 05:03:51.301 Thread 'MainThread': missing ScriptRunContext! This warning can be ignored when running in bare mode.\n",
            "2025-08-03 05:03:51.301 Thread 'MainThread': missing ScriptRunContext! This warning can be ignored when running in bare mode.\n",
            "2025-08-03 05:03:51.302 Thread 'MainThread': missing ScriptRunContext! This warning can be ignored when running in bare mode.\n",
            "2025-08-03 05:03:51.303 Thread 'MainThread': missing ScriptRunContext! This warning can be ignored when running in bare mode.\n",
            "2025-08-03 05:03:51.303 Thread 'MainThread': missing ScriptRunContext! This warning can be ignored when running in bare mode.\n",
            "2025-08-03 05:03:51.304 Thread 'MainThread': missing ScriptRunContext! This warning can be ignored when running in bare mode.\n",
            "2025-08-03 05:03:51.307 Thread 'MainThread': missing ScriptRunContext! This warning can be ignored when running in bare mode.\n",
            "2025-08-03 05:03:51.308 Thread 'MainThread': missing ScriptRunContext! This warning can be ignored when running in bare mode.\n",
            "2025-08-03 05:03:51.309 Thread 'MainThread': missing ScriptRunContext! This warning can be ignored when running in bare mode.\n",
            "2025-08-03 05:03:51.309 Thread 'MainThread': missing ScriptRunContext! This warning can be ignored when running in bare mode.\n",
            "2025-08-03 05:03:51.310 Thread 'MainThread': missing ScriptRunContext! This warning can be ignored when running in bare mode.\n",
            "2025-08-03 05:03:51.310 Thread 'MainThread': missing ScriptRunContext! This warning can be ignored when running in bare mode.\n",
            "2025-08-03 05:03:51.312 Thread 'MainThread': missing ScriptRunContext! This warning can be ignored when running in bare mode.\n",
            "2025-08-03 05:03:51.313 Thread 'MainThread': missing ScriptRunContext! This warning can be ignored when running in bare mode.\n",
            "2025-08-03 05:03:51.313 Thread 'MainThread': missing ScriptRunContext! This warning can be ignored when running in bare mode.\n",
            "2025-08-03 05:03:51.314 Thread 'MainThread': missing ScriptRunContext! This warning can be ignored when running in bare mode.\n",
            "2025-08-03 05:03:51.314 Thread 'MainThread': missing ScriptRunContext! This warning can be ignored when running in bare mode.\n",
            "2025-08-03 05:03:51.318 Thread 'MainThread': missing ScriptRunContext! This warning can be ignored when running in bare mode.\n",
            "2025-08-03 05:03:51.318 Thread 'MainThread': missing ScriptRunContext! This warning can be ignored when running in bare mode.\n",
            "2025-08-03 05:03:51.321 Thread 'MainThread': missing ScriptRunContext! This warning can be ignored when running in bare mode.\n",
            "2025-08-03 05:03:51.322 Thread 'MainThread': missing ScriptRunContext! This warning can be ignored when running in bare mode.\n"
          ]
        }
      ],
      "execution_count": 8,
      "metadata": {
        "colab": {
          "base_uri": "https://localhost:8080/"
        },
        "id": "kHzOWMZwRVzo",
        "outputId": "215db2e3-50ba-4be1-99d8-827e86181f4f"
      }
    },
    {
      "cell_type": "code",
      "source": [],
      "metadata": {
        "id": "18_VzqJfMGY2"
      },
      "execution_count": 8,
      "outputs": []
    },
    {
      "cell_type": "code",
      "metadata": {
        "id": "911d1f85",
        "colab": {
          "base_uri": "https://localhost:8080/"
        },
        "outputId": "14552044-c4f8-4ac1-c9ea-ac539c7f32fc"
      },
      "source": [
        "%pip install streamlit"
      ],
      "execution_count": 9,
      "outputs": [
        {
          "output_type": "stream",
          "name": "stdout",
          "text": [
            "Requirement already satisfied: streamlit in /usr/local/lib/python3.11/dist-packages (1.47.1)\n",
            "Requirement already satisfied: altair<6,>=4.0 in /usr/local/lib/python3.11/dist-packages (from streamlit) (5.5.0)\n",
            "Requirement already satisfied: blinker<2,>=1.5.0 in /usr/local/lib/python3.11/dist-packages (from streamlit) (1.9.0)\n",
            "Requirement already satisfied: cachetools<7,>=4.0 in /usr/local/lib/python3.11/dist-packages (from streamlit) (5.5.2)\n",
            "Requirement already satisfied: click<9,>=7.0 in /usr/local/lib/python3.11/dist-packages (from streamlit) (8.2.1)\n",
            "Requirement already satisfied: numpy<3,>=1.23 in /usr/local/lib/python3.11/dist-packages (from streamlit) (2.0.2)\n",
            "Requirement already satisfied: packaging<26,>=20 in /usr/local/lib/python3.11/dist-packages (from streamlit) (25.0)\n",
            "Requirement already satisfied: pandas<3,>=1.4.0 in /usr/local/lib/python3.11/dist-packages (from streamlit) (2.2.2)\n",
            "Requirement already satisfied: pillow<12,>=7.1.0 in /usr/local/lib/python3.11/dist-packages (from streamlit) (11.3.0)\n",
            "Requirement already satisfied: protobuf<7,>=3.20 in /usr/local/lib/python3.11/dist-packages (from streamlit) (5.29.5)\n",
            "Requirement already satisfied: pyarrow>=7.0 in /usr/local/lib/python3.11/dist-packages (from streamlit) (18.1.0)\n",
            "Requirement already satisfied: requests<3,>=2.27 in /usr/local/lib/python3.11/dist-packages (from streamlit) (2.32.3)\n",
            "Requirement already satisfied: tenacity<10,>=8.1.0 in /usr/local/lib/python3.11/dist-packages (from streamlit) (8.5.0)\n",
            "Requirement already satisfied: toml<2,>=0.10.1 in /usr/local/lib/python3.11/dist-packages (from streamlit) (0.10.2)\n",
            "Requirement already satisfied: typing-extensions<5,>=4.4.0 in /usr/local/lib/python3.11/dist-packages (from streamlit) (4.14.1)\n",
            "Requirement already satisfied: watchdog<7,>=2.1.5 in /usr/local/lib/python3.11/dist-packages (from streamlit) (6.0.0)\n",
            "Requirement already satisfied: gitpython!=3.1.19,<4,>=3.0.7 in /usr/local/lib/python3.11/dist-packages (from streamlit) (3.1.45)\n",
            "Requirement already satisfied: pydeck<1,>=0.8.0b4 in /usr/local/lib/python3.11/dist-packages (from streamlit) (0.9.1)\n",
            "Requirement already satisfied: tornado!=6.5.0,<7,>=6.0.3 in /usr/local/lib/python3.11/dist-packages (from streamlit) (6.4.2)\n",
            "Requirement already satisfied: jinja2 in /usr/local/lib/python3.11/dist-packages (from altair<6,>=4.0->streamlit) (3.1.6)\n",
            "Requirement already satisfied: jsonschema>=3.0 in /usr/local/lib/python3.11/dist-packages (from altair<6,>=4.0->streamlit) (4.25.0)\n",
            "Requirement already satisfied: narwhals>=1.14.2 in /usr/local/lib/python3.11/dist-packages (from altair<6,>=4.0->streamlit) (1.48.1)\n",
            "Requirement already satisfied: gitdb<5,>=4.0.1 in /usr/local/lib/python3.11/dist-packages (from gitpython!=3.1.19,<4,>=3.0.7->streamlit) (4.0.12)\n",
            "Requirement already satisfied: python-dateutil>=2.8.2 in /usr/local/lib/python3.11/dist-packages (from pandas<3,>=1.4.0->streamlit) (2.9.0.post0)\n",
            "Requirement already satisfied: pytz>=2020.1 in /usr/local/lib/python3.11/dist-packages (from pandas<3,>=1.4.0->streamlit) (2025.2)\n",
            "Requirement already satisfied: tzdata>=2022.7 in /usr/local/lib/python3.11/dist-packages (from pandas<3,>=1.4.0->streamlit) (2025.2)\n",
            "Requirement already satisfied: charset-normalizer<4,>=2 in /usr/local/lib/python3.11/dist-packages (from requests<3,>=2.27->streamlit) (3.4.2)\n",
            "Requirement already satisfied: idna<4,>=2.5 in /usr/local/lib/python3.11/dist-packages (from requests<3,>=2.27->streamlit) (3.10)\n",
            "Requirement already satisfied: urllib3<3,>=1.21.1 in /usr/local/lib/python3.11/dist-packages (from requests<3,>=2.27->streamlit) (2.5.0)\n",
            "Requirement already satisfied: certifi>=2017.4.17 in /usr/local/lib/python3.11/dist-packages (from requests<3,>=2.27->streamlit) (2025.7.14)\n",
            "Requirement already satisfied: smmap<6,>=3.0.1 in /usr/local/lib/python3.11/dist-packages (from gitdb<5,>=4.0.1->gitpython!=3.1.19,<4,>=3.0.7->streamlit) (5.0.2)\n",
            "Requirement already satisfied: MarkupSafe>=2.0 in /usr/local/lib/python3.11/dist-packages (from jinja2->altair<6,>=4.0->streamlit) (3.0.2)\n",
            "Requirement already satisfied: attrs>=22.2.0 in /usr/local/lib/python3.11/dist-packages (from jsonschema>=3.0->altair<6,>=4.0->streamlit) (25.3.0)\n",
            "Requirement already satisfied: jsonschema-specifications>=2023.03.6 in /usr/local/lib/python3.11/dist-packages (from jsonschema>=3.0->altair<6,>=4.0->streamlit) (2025.4.1)\n",
            "Requirement already satisfied: referencing>=0.28.4 in /usr/local/lib/python3.11/dist-packages (from jsonschema>=3.0->altair<6,>=4.0->streamlit) (0.36.2)\n",
            "Requirement already satisfied: rpds-py>=0.7.1 in /usr/local/lib/python3.11/dist-packages (from jsonschema>=3.0->altair<6,>=4.0->streamlit) (0.26.0)\n",
            "Requirement already satisfied: six>=1.5 in /usr/local/lib/python3.11/dist-packages (from python-dateutil>=2.8.2->pandas<3,>=1.4.0->streamlit) (1.17.0)\n"
          ]
        }
      ]
    },
    {
      "cell_type": "markdown",
      "metadata": {
        "id": "9be6be53"
      },
      "source": [
        "# Task\n",
        "Forneça um passo a passo para um iniciante em Python sobre como executar um dashboard criado com Streamlit, incluindo como salvar o código, usar o GitHub para versionamento e implantação no Streamlit Cloud."
      ]
    },
    {
      "cell_type": "markdown",
      "metadata": {
        "id": "38fdc20b"
      },
      "source": [
        "## Salvar o código python\n",
        "\n",
        "### Subtask:\n",
        "Copie o código do seu dashboard e salve-o em um arquivo com extensão `.py` (por exemplo, `dashboard_fluxo.py`) no seu computador.\n"
      ]
    },
    {
      "cell_type": "markdown",
      "metadata": {
        "id": "4f0d9f77"
      },
      "source": [
        "## Criar uma conta no github\n",
        "\n",
        "### Subtask:\n",
        "Se você ainda não tem uma conta, crie uma no GitHub. O GitHub é onde você vai armazenar o código online.\n"
      ]
    },
    {
      "cell_type": "markdown",
      "metadata": {
        "id": "472cae07"
      },
      "source": [
        "## Criar um novo repositório no github\n",
        "\n",
        "### Subtask:\n",
        "No GitHub, crie um novo repositório (como se fosse uma pasta para o seu projeto). Dê um nome a ele (por exemplo, `dashboard-fluxo-streamlit`).\n"
      ]
    },
    {
      "cell_type": "markdown",
      "metadata": {
        "id": "8b8afe75"
      },
      "source": [
        "## Fazer upload do arquivo python para o github\n",
        "\n",
        "### Subtask:\n",
        "Dentro do seu novo repositório no GitHub, faça o upload do arquivo `dashboard_fluxo.py` que você salvou no passo 1.\n"
      ]
    },
    {
      "cell_type": "markdown",
      "metadata": {
        "id": "90850740"
      },
      "source": [
        "## Criar uma conta no streamlit cloud\n",
        "\n",
        "### Subtask:\n",
        "Vá para o Streamlit Cloud e crie uma conta. Você pode usar sua conta do GitHub para fazer login, o que facilita a conexão.\n"
      ]
    },
    {
      "cell_type": "markdown",
      "metadata": {
        "id": "e730c6aa"
      },
      "source": [
        "## Implantar o aplicativo no streamlit cloud\n",
        "\n",
        "### Subtask:\n",
        "No Streamlit Cloud, você verá a opção para \"New app\" ou \"Deploy an app\". Selecione seu repositório do GitHub, o branch (geralmente `main` ou `master`) e o nome do arquivo Python principal (`dashboard_fluxo.py`).\n"
      ]
    },
    {
      "cell_type": "markdown",
      "metadata": {
        "id": "7e8fb069"
      },
      "source": [
        "## Aguardar a implantação\n",
        "\n",
        "### Subtask:\n",
        "O Streamlit Cloud vai ler seu código, instalar as bibliotecas necessárias e construir o aplicativo. Isso pode levar alguns minutos.\n"
      ]
    },
    {
      "cell_type": "markdown",
      "metadata": {
        "id": "f999d895"
      },
      "source": [
        "## Acessar o dashboard\n",
        "\n",
        "### Subtask:\n",
        "Assim que a implantação terminar, o Streamlit Cloud fornecerá um link público para o seu dashboard. Você poderá acessar o dashboard usando esse link em qualquer navegador.\n"
      ]
    },
    {
      "cell_type": "markdown",
      "metadata": {
        "id": "d21e297f"
      },
      "source": [
        "## Summary:\n",
        "\n",
        "### Data Analysis Key Findings\n",
        "\n",
        "*   The process outlines the steps for a beginner to deploy a Streamlit dashboard, starting from saving the Python code locally.\n",
        "*   It includes instructions for using GitHub for version control by creating an account, a new repository, and uploading the Python file.\n",
        "*   The guide details creating an account on Streamlit Cloud, preferably using GitHub for easier connection.\n",
        "*   A crucial step is deploying the application on Streamlit Cloud by selecting the GitHub repository, branch, and the main Python file.\n",
        "*   The process highlights the waiting period required for Streamlit Cloud to build and deploy the application, including installing necessary libraries.\n",
        "*   Finally, it explains how to access the deployed dashboard using the public link provided by Streamlit Cloud.\n",
        "\n",
        "### Insights or Next Steps\n",
        "\n",
        "*   The user now has a clear step-by-step guide to deploy their Streamlit dashboard from development to a publicly accessible link using GitHub and Streamlit Cloud.\n",
        "*   A useful next step would be to guide the user on how to update their deployed dashboard by making changes to the code, pushing those changes to GitHub, and triggering a redeployment on Streamlit Cloud.\n"
      ]
    },
    {
      "cell_type": "code",
      "metadata": {
        "colab": {
          "base_uri": "https://localhost:8080/"
        },
        "id": "68adc3f3",
        "outputId": "49f3f804-90eb-4403-82e5-5e5a4e0ca8bd"
      },
      "source": [
        "%pip install streamlit"
      ],
      "execution_count": 10,
      "outputs": [
        {
          "output_type": "stream",
          "name": "stdout",
          "text": [
            "Requirement already satisfied: streamlit in /usr/local/lib/python3.11/dist-packages (1.47.1)\n",
            "Requirement already satisfied: altair<6,>=4.0 in /usr/local/lib/python3.11/dist-packages (from streamlit) (5.5.0)\n",
            "Requirement already satisfied: blinker<2,>=1.5.0 in /usr/local/lib/python3.11/dist-packages (from streamlit) (1.9.0)\n",
            "Requirement already satisfied: cachetools<7,>=4.0 in /usr/local/lib/python3.11/dist-packages (from streamlit) (5.5.2)\n",
            "Requirement already satisfied: click<9,>=7.0 in /usr/local/lib/python3.11/dist-packages (from streamlit) (8.2.1)\n",
            "Requirement already satisfied: numpy<3,>=1.23 in /usr/local/lib/python3.11/dist-packages (from streamlit) (2.0.2)\n",
            "Requirement already satisfied: packaging<26,>=20 in /usr/local/lib/python3.11/dist-packages (from streamlit) (25.0)\n",
            "Requirement already satisfied: pandas<3,>=1.4.0 in /usr/local/lib/python3.11/dist-packages (from streamlit) (2.2.2)\n",
            "Requirement already satisfied: pillow<12,>=7.1.0 in /usr/local/lib/python3.11/dist-packages (from streamlit) (11.3.0)\n",
            "Requirement already satisfied: protobuf<7,>=3.20 in /usr/local/lib/python3.11/dist-packages (from streamlit) (5.29.5)\n",
            "Requirement already satisfied: pyarrow>=7.0 in /usr/local/lib/python3.11/dist-packages (from streamlit) (18.1.0)\n",
            "Requirement already satisfied: requests<3,>=2.27 in /usr/local/lib/python3.11/dist-packages (from streamlit) (2.32.3)\n",
            "Requirement already satisfied: tenacity<10,>=8.1.0 in /usr/local/lib/python3.11/dist-packages (from streamlit) (8.5.0)\n",
            "Requirement already satisfied: toml<2,>=0.10.1 in /usr/local/lib/python3.11/dist-packages (from streamlit) (0.10.2)\n",
            "Requirement already satisfied: typing-extensions<5,>=4.4.0 in /usr/local/lib/python3.11/dist-packages (from streamlit) (4.14.1)\n",
            "Requirement already satisfied: watchdog<7,>=2.1.5 in /usr/local/lib/python3.11/dist-packages (from streamlit) (6.0.0)\n",
            "Requirement already satisfied: gitpython!=3.1.19,<4,>=3.0.7 in /usr/local/lib/python3.11/dist-packages (from streamlit) (3.1.45)\n",
            "Requirement already satisfied: pydeck<1,>=0.8.0b4 in /usr/local/lib/python3.11/dist-packages (from streamlit) (0.9.1)\n",
            "Requirement already satisfied: tornado!=6.5.0,<7,>=6.0.3 in /usr/local/lib/python3.11/dist-packages (from streamlit) (6.4.2)\n",
            "Requirement already satisfied: jinja2 in /usr/local/lib/python3.11/dist-packages (from altair<6,>=4.0->streamlit) (3.1.6)\n",
            "Requirement already satisfied: jsonschema>=3.0 in /usr/local/lib/python3.11/dist-packages (from altair<6,>=4.0->streamlit) (4.25.0)\n",
            "Requirement already satisfied: narwhals>=1.14.2 in /usr/local/lib/python3.11/dist-packages (from altair<6,>=4.0->streamlit) (1.48.1)\n",
            "Requirement already satisfied: gitdb<5,>=4.0.1 in /usr/local/lib/python3.11/dist-packages (from gitpython!=3.1.19,<4,>=3.0.7->streamlit) (4.0.12)\n",
            "Requirement already satisfied: python-dateutil>=2.8.2 in /usr/local/lib/python3.11/dist-packages (from pandas<3,>=1.4.0->streamlit) (2.9.0.post0)\n",
            "Requirement already satisfied: pytz>=2020.1 in /usr/local/lib/python3.11/dist-packages (from pandas<3,>=1.4.0->streamlit) (2025.2)\n",
            "Requirement already satisfied: tzdata>=2022.7 in /usr/local/lib/python3.11/dist-packages (from pandas<3,>=1.4.0->streamlit) (2025.2)\n",
            "Requirement already satisfied: charset-normalizer<4,>=2 in /usr/local/lib/python3.11/dist-packages (from requests<3,>=2.27->streamlit) (3.4.2)\n",
            "Requirement already satisfied: idna<4,>=2.5 in /usr/local/lib/python3.11/dist-packages (from requests<3,>=2.27->streamlit) (3.10)\n",
            "Requirement already satisfied: urllib3<3,>=1.21.1 in /usr/local/lib/python3.11/dist-packages (from requests<3,>=2.27->streamlit) (2.5.0)\n",
            "Requirement already satisfied: certifi>=2017.4.17 in /usr/local/lib/python3.11/dist-packages (from requests<3,>=2.27->streamlit) (2025.7.14)\n",
            "Requirement already satisfied: smmap<6,>=3.0.1 in /usr/local/lib/python3.11/dist-packages (from gitdb<5,>=4.0.1->gitpython!=3.1.19,<4,>=3.0.7->streamlit) (5.0.2)\n",
            "Requirement already satisfied: MarkupSafe>=2.0 in /usr/local/lib/python3.11/dist-packages (from jinja2->altair<6,>=4.0->streamlit) (3.0.2)\n",
            "Requirement already satisfied: attrs>=22.2.0 in /usr/local/lib/python3.11/dist-packages (from jsonschema>=3.0->altair<6,>=4.0->streamlit) (25.3.0)\n",
            "Requirement already satisfied: jsonschema-specifications>=2023.03.6 in /usr/local/lib/python3.11/dist-packages (from jsonschema>=3.0->altair<6,>=4.0->streamlit) (2025.4.1)\n",
            "Requirement already satisfied: referencing>=0.28.4 in /usr/local/lib/python3.11/dist-packages (from jsonschema>=3.0->altair<6,>=4.0->streamlit) (0.36.2)\n",
            "Requirement already satisfied: rpds-py>=0.7.1 in /usr/local/lib/python3.11/dist-packages (from jsonschema>=3.0->altair<6,>=4.0->streamlit) (0.26.0)\n",
            "Requirement already satisfied: six>=1.5 in /usr/local/lib/python3.11/dist-packages (from python-dateutil>=2.8.2->pandas<3,>=1.4.0->streamlit) (1.17.0)\n"
          ]
        }
      ]
    },
    {
      "cell_type": "markdown",
      "metadata": {
        "id": "999403e7"
      },
      "source": [
        "# Task\n",
        "Explain how to install Python libraries."
      ]
    },
    {
      "cell_type": "markdown",
      "metadata": {
        "id": "9efa544b"
      },
      "source": [
        "## Save the code\n",
        "\n",
        "### Subtask:\n",
        "Save the Streamlit application code to a Python file (e.g., `dashboard_fluxo.py`).\n"
      ]
    },
    {
      "cell_type": "markdown",
      "metadata": {
        "id": "5c2263a4"
      },
      "source": [
        "## Open a terminal\n",
        "\n",
        "### Subtask:\n",
        "Open a terminal or command prompt on your computer.\n"
      ]
    },
    {
      "cell_type": "markdown",
      "metadata": {
        "id": "acc8bf0b"
      },
      "source": [
        "## Navigate to the file directory\n",
        "\n",
        "### Subtask:\n",
        "Use the `cd` command to go to the directory where you saved the Python file.\n"
      ]
    },
    {
      "cell_type": "markdown",
      "metadata": {
        "id": "2c7506ab"
      },
      "source": [
        "## Run the streamlit app\n",
        "\n",
        "### Subtask:\n",
        "Run the Streamlit app.\n"
      ]
    },
    {
      "cell_type": "markdown",
      "metadata": {
        "id": "9c78b454"
      },
      "source": [
        "## Summary:\n",
        "\n",
        "### Data Analysis Key Findings\n",
        "*   The primary goal was to guide a user on how to run a Streamlit application, which involves a series of steps to be performed in the user's local environment.\n",
        "*   The process began with instructions to save the provided Python code into a file named `dashboard_fluxo.py`.\n",
        "*   Subsequent steps involved user actions outside of the direct control of the system, such as opening a terminal and navigating to the correct file directory using the `cd` command.\n",
        "*   The final step was to provide the user with the command `streamlit run dashboard_fluxo.py` to execute in their terminal, which would start the Streamlit application server.\n",
        "\n",
        "### Insights or Next Steps\n",
        "*   Since the process relies on user actions in their local environment, it's beneficial to provide clear, platform-specific instructions (e.g., for Windows, macOS, and Linux) to minimize user confusion.\n"
      ]
    },
    {
      "cell_type": "code",
      "metadata": {
        "colab": {
          "base_uri": "https://localhost:8080/"
        },
        "id": "eba1bbe9",
        "outputId": "1a24925a-9370-4cd1-c007-64905a5c664a"
      },
      "source": [
        "%pip install plotly"
      ],
      "execution_count": 11,
      "outputs": [
        {
          "output_type": "stream",
          "name": "stdout",
          "text": [
            "Requirement already satisfied: plotly in /usr/local/lib/python3.11/dist-packages (5.24.1)\n",
            "Requirement already satisfied: tenacity>=6.2.0 in /usr/local/lib/python3.11/dist-packages (from plotly) (8.5.0)\n",
            "Requirement already satisfied: packaging in /usr/local/lib/python3.11/dist-packages (from plotly) (25.0)\n"
          ]
        }
      ]
    }
  ],
  "metadata": {
    "colab": {
      "provenance": []
    },
    "kernelspec": {
      "display_name": "Python 3",
      "name": "python3"
    }
  },
  "nbformat": 4,
  "nbformat_minor": 0
}